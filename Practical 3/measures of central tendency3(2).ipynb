{
 "cells": [
  {
   "cell_type": "markdown",
   "id": "f06f9030",
   "metadata": {},
   "source": [
    "### Data Science And Big Data Analytics Practical 3.2\n",
    "===========================================================================================================================\n",
    "### Problem Statement:-\n",
    "### Write a Python program to display some basic statistical details like percentile, mean, standard deviation etc. of the species of ‘Iris-setosa’, ‘Iris-versicolor’ and ‘Iris-versicolor’ of iris.csv dataset.\n"
   ]
  },
  {
   "cell_type": "code",
   "execution_count": 3,
   "id": "1d58461f",
   "metadata": {},
   "outputs": [],
   "source": [
    "import pandas as pd\n",
    "url_link = 'iris.csv'\n",
    "data = pd.read_csv(url_link)"
   ]
  },
  {
   "cell_type": "code",
   "execution_count": 4,
   "id": "eca26f6a",
   "metadata": {},
   "outputs": [
    {
     "name": "stdout",
     "output_type": "stream",
     "text": [
      "Iris-setosa\n",
      "       sepal.length  sepal.width  petal.length  petal.width\n",
      "count      50.00000    50.000000     50.000000    50.000000\n",
      "mean        5.00600     3.428000      1.462000     0.246000\n",
      "std         0.35249     0.379064      0.173664     0.105386\n",
      "min         4.30000     2.300000      1.000000     0.100000\n",
      "25%         4.80000     3.200000      1.400000     0.200000\n",
      "50%         5.00000     3.400000      1.500000     0.200000\n",
      "75%         5.20000     3.675000      1.575000     0.300000\n",
      "max         5.80000     4.400000      1.900000     0.600000\n"
     ]
    }
   ],
   "source": [
    "print('Iris-setosa')\n",
    "setosa = data['variety'] == 'Setosa'\n",
    "print(data[setosa].describe())"
   ]
  },
  {
   "cell_type": "code",
   "execution_count": 5,
   "id": "385ba495",
   "metadata": {},
   "outputs": [
    {
     "name": "stdout",
     "output_type": "stream",
     "text": [
      "Iris-versicolor\n",
      "       sepal.length  sepal.width  petal.length  petal.width\n",
      "count     50.000000    50.000000     50.000000    50.000000\n",
      "mean       5.936000     2.770000      4.260000     1.326000\n",
      "std        0.516171     0.313798      0.469911     0.197753\n",
      "min        4.900000     2.000000      3.000000     1.000000\n",
      "25%        5.600000     2.525000      4.000000     1.200000\n",
      "50%        5.900000     2.800000      4.350000     1.300000\n",
      "75%        6.300000     3.000000      4.600000     1.500000\n",
      "max        7.000000     3.400000      5.100000     1.800000\n"
     ]
    }
   ],
   "source": [
    "print('Iris-versicolor')\n",
    "setosa = data['variety'] == 'Versicolor'\n",
    "print(data[setosa].describe())"
   ]
  },
  {
   "cell_type": "code",
   "execution_count": 6,
   "id": "cb26b055",
   "metadata": {},
   "outputs": [
    {
     "name": "stdout",
     "output_type": "stream",
     "text": [
      "Iris-virginica\n",
      "       sepal.length  sepal.width  petal.length  petal.width\n",
      "count      50.00000    50.000000     50.000000     50.00000\n",
      "mean        6.58800     2.974000      5.552000      2.02600\n",
      "std         0.63588     0.322497      0.551895      0.27465\n",
      "min         4.90000     2.200000      4.500000      1.40000\n",
      "25%         6.22500     2.800000      5.100000      1.80000\n",
      "50%         6.50000     3.000000      5.550000      2.00000\n",
      "75%         6.90000     3.175000      5.875000      2.30000\n",
      "max         7.90000     3.800000      6.900000      2.50000\n"
     ]
    }
   ],
   "source": [
    "print('Iris-virginica')\n",
    "setosa = data['variety'] == 'Virginica'\n",
    "print(data[setosa].describe())"
   ]
  }
 ],
 "metadata": {
  "kernelspec": {
   "display_name": "Python 3 (ipykernel)",
   "language": "python",
   "name": "python3"
  },
  "language_info": {
   "codemirror_mode": {
    "name": "ipython",
    "version": 3
   },
   "file_extension": ".py",
   "mimetype": "text/x-python",
   "name": "python",
   "nbconvert_exporter": "python",
   "pygments_lexer": "ipython3",
   "version": "3.9.7"
  }
 },
 "nbformat": 4,
 "nbformat_minor": 5
}
