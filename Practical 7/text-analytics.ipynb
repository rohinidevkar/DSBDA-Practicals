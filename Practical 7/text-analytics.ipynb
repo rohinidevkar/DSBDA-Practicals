{
 "cells": [
  {
   "cell_type": "markdown",
   "metadata": {},
   "source": [
    "## Data Science And Big Data Analytics Practical 7                                  \n",
    "=======================================================================================================================\n",
    "### Name:- Rohini Janardan Devkar\n",
    "### Roll no:- 23272\n",
    "### PRN no:- 72030818G\n",
    "### Class :- TE2\n",
    "=======================================================================================================================\n",
    "### Text Analytics\n",
    "#### Extract Sample document and apply following document preprocessing methods:Tokenization, POS Tagging, stop words removal, Stemming and Lemmatization.\n",
    "#### Create representation of document by calculating Term Frequency and Inverse Document Frequency.\n",
    "======================================================================================================================="
   ]
  },
  {
   "cell_type": "code",
   "execution_count": 2,
   "metadata": {
    "execution": {
     "iopub.execute_input": "2022-03-10T13:55:21.837380Z",
     "iopub.status.busy": "2022-03-10T13:55:21.836524Z",
     "iopub.status.idle": "2022-03-10T13:55:21.850242Z",
     "shell.execute_reply": "2022-03-10T13:55:21.849337Z",
     "shell.execute_reply.started": "2022-03-10T13:55:21.837344Z"
    }
   },
   "outputs": [
    {
     "name": "stderr",
     "output_type": "stream",
     "text": [
      "[nltk_data] Downloading package punkt to\n",
      "[nltk_data]     C:\\Users\\Lenovo\\AppData\\Roaming\\nltk_data...\n",
      "[nltk_data]   Package punkt is already up-to-date!\n",
      "[nltk_data] Downloading package stopwords to\n",
      "[nltk_data]     C:\\Users\\Lenovo\\AppData\\Roaming\\nltk_data...\n",
      "[nltk_data]   Package stopwords is already up-to-date!\n",
      "[nltk_data] Downloading package wordnet to\n",
      "[nltk_data]     C:\\Users\\Lenovo\\AppData\\Roaming\\nltk_data...\n",
      "[nltk_data]   Package wordnet is already up-to-date!\n",
      "[nltk_data] Downloading package omw-1.4 to\n",
      "[nltk_data]     C:\\Users\\Lenovo\\AppData\\Roaming\\nltk_data...\n",
      "[nltk_data]   Package omw-1.4 is already up-to-date!\n",
      "[nltk_data] Downloading package averaged_perceptron_tagger to\n",
      "[nltk_data]     C:\\Users\\Lenovo\\AppData\\Roaming\\nltk_data...\n",
      "[nltk_data]   Package averaged_perceptron_tagger is already up-to-\n",
      "[nltk_data]       date!\n"
     ]
    },
    {
     "data": {
      "text/plain": [
       "True"
      ]
     },
     "execution_count": 2,
     "metadata": {},
     "output_type": "execute_result"
    }
   ],
   "source": [
    "import nltk\n",
    "from nltk.tokenize import sent_tokenize\n",
    "from nltk.tokenize import word_tokenize\n",
    "from nltk.corpus import stopwords\n",
    "from nltk.stem import PorterStemmer\n",
    "from nltk.stem.wordnet import WordNetLemmatizer\n",
    "\n",
    "nltk.download('punkt')\n",
    "nltk.download('stopwords')\n",
    "nltk.download('wordnet')\n",
    "nltk.download('omw-1.4')\n",
    "nltk.download('averaged_perceptron_tagger')"
   ]
  },
  {
   "cell_type": "code",
   "execution_count": 3,
   "metadata": {
    "execution": {
     "iopub.execute_input": "2022-03-10T13:55:21.852575Z",
     "iopub.status.busy": "2022-03-10T13:55:21.852064Z",
     "iopub.status.idle": "2022-03-10T13:55:21.865925Z",
     "shell.execute_reply": "2022-03-10T13:55:21.864980Z",
     "shell.execute_reply.started": "2022-03-10T13:55:21.852540Z"
    }
   },
   "outputs": [],
   "source": [
    "text=\"\"\"Hello Mr. Smith, how are you doing today? The weather is great, and city is awesome.\n",
    "The sky is pinkish-blue. You shouldn't eat cardboard\"\"\""
   ]
  },
  {
   "cell_type": "code",
   "execution_count": 4,
   "metadata": {
    "execution": {
     "iopub.execute_input": "2022-03-10T13:55:21.867299Z",
     "iopub.status.busy": "2022-03-10T13:55:21.867065Z",
     "iopub.status.idle": "2022-03-10T13:55:21.880375Z",
     "shell.execute_reply": "2022-03-10T13:55:21.879504Z",
     "shell.execute_reply.started": "2022-03-10T13:55:21.867271Z"
    }
   },
   "outputs": [
    {
     "name": "stdout",
     "output_type": "stream",
     "text": [
      "\n",
      "#Sentence Tokenization\n",
      "['Hello Mr. Smith, how are you doing today?', 'The weather is great, and city is awesome.', 'The sky is pinkish-blue.', \"You shouldn't eat cardboard\"]\n"
     ]
    }
   ],
   "source": [
    "#Sentence Tokenization\n",
    "tokenized_text=sent_tokenize(text)\n",
    "print(\"\\n#Sentence Tokenization\")\n",
    "print(tokenized_text)"
   ]
  },
  {
   "cell_type": "code",
   "execution_count": 5,
   "metadata": {
    "execution": {
     "iopub.execute_input": "2022-03-10T13:55:21.883571Z",
     "iopub.status.busy": "2022-03-10T13:55:21.882737Z",
     "iopub.status.idle": "2022-03-10T13:55:21.897414Z",
     "shell.execute_reply": "2022-03-10T13:55:21.896469Z",
     "shell.execute_reply.started": "2022-03-10T13:55:21.883523Z"
    }
   },
   "outputs": [
    {
     "name": "stdout",
     "output_type": "stream",
     "text": [
      "\n",
      "#Word Tokenization\n",
      "['Hello', 'Mr.', 'Smith', ',', 'how', 'are', 'you', 'doing', 'today', '?', 'The', 'weather', 'is', 'great', ',', 'and', 'city', 'is', 'awesome', '.', 'The', 'sky', 'is', 'pinkish-blue', '.', 'You', 'should', \"n't\", 'eat', 'cardboard']\n"
     ]
    }
   ],
   "source": [
    "#Word Tokenization\n",
    "tokenized_word=word_tokenize(text)\n",
    "print(\"\\n#Word Tokenization\")\n",
    "print(tokenized_word)"
   ]
  },
  {
   "cell_type": "code",
   "execution_count": 6,
   "metadata": {
    "execution": {
     "iopub.execute_input": "2022-03-10T13:55:21.899071Z",
     "iopub.status.busy": "2022-03-10T13:55:21.898575Z",
     "iopub.status.idle": "2022-03-10T13:55:21.911319Z",
     "shell.execute_reply": "2022-03-10T13:55:21.910326Z",
     "shell.execute_reply.started": "2022-03-10T13:55:21.899018Z"
    }
   },
   "outputs": [
    {
     "name": "stdout",
     "output_type": "stream",
     "text": [
      "\n",
      "#Removing Stopwords\n",
      "Tokenized Sentence: ['Hello', 'Mr.', 'Smith', ',', 'how', 'are', 'you', 'doing', 'today', '?', 'The', 'weather', 'is', 'great', ',', 'and', 'city', 'is', 'awesome', '.', 'The', 'sky', 'is', 'pinkish-blue', '.', 'You', 'should', \"n't\", 'eat', 'cardboard']\n",
      "\n",
      "Filterd Sentence: ['Hello', 'Mr.', 'Smith', ',', 'today', '?', 'The', 'weather', 'great', ',', 'city', 'awesome', '.', 'The', 'sky', 'pinkish-blue', '.', 'You', \"n't\", 'eat', 'cardboard']\n"
     ]
    }
   ],
   "source": [
    "#Removing Stopwords\n",
    "print(\"\\n#Removing Stopwords\")\n",
    "stop_words=set(stopwords.words(\"english\"))\n",
    "filtered_sent=[]\n",
    "for w in tokenized_word:\n",
    "    if w not in stop_words:\n",
    "        filtered_sent.append(w)\n",
    "print(\"Tokenized Sentence:\",tokenized_word)\n",
    "print(\"\\nFilterd Sentence:\",filtered_sent)"
   ]
  },
  {
   "cell_type": "code",
   "execution_count": 7,
   "metadata": {
    "execution": {
     "iopub.execute_input": "2022-03-10T13:55:21.913072Z",
     "iopub.status.busy": "2022-03-10T13:55:21.912742Z",
     "iopub.status.idle": "2022-03-10T13:55:21.930197Z",
     "shell.execute_reply": "2022-03-10T13:55:21.928418Z",
     "shell.execute_reply.started": "2022-03-10T13:55:21.913028Z"
    }
   },
   "outputs": [
    {
     "name": "stdout",
     "output_type": "stream",
     "text": [
      "\n",
      "Stemmed Sentence: ['hello', 'mr.', 'smith', ',', 'how', 'are', 'you', 'do', 'today', '?', 'the', 'weather', 'is', 'great', ',', 'and', 'citi', 'is', 'awesom', '.', 'the', 'sky', 'is', 'pinkish-blu', '.', 'you', 'should', \"n't\", 'eat', 'cardboard']\n"
     ]
    }
   ],
   "source": [
    "#Stemming\n",
    "ps =PorterStemmer()\n",
    "stemmed_words=[]\n",
    "for w in tokenized_word:\n",
    "    stemmed_words.append(ps.stem(w))\n",
    "print(\"\\nStemmed Sentence:\",stemmed_words)"
   ]
  },
  {
   "cell_type": "code",
   "execution_count": 8,
   "metadata": {
    "execution": {
     "iopub.execute_input": "2022-03-10T13:55:21.931705Z",
     "iopub.status.busy": "2022-03-10T13:55:21.931336Z",
     "iopub.status.idle": "2022-03-10T13:55:21.944354Z",
     "shell.execute_reply": "2022-03-10T13:55:21.943655Z",
     "shell.execute_reply.started": "2022-03-10T13:55:21.931673Z"
    }
   },
   "outputs": [
    {
     "name": "stdout",
     "output_type": "stream",
     "text": [
      "\n",
      "Lemmatized Sentence: ['Hello', 'Mr.', 'Smith', ',', 'how', 'are', 'you', 'doing', 'today', '?', 'The', 'weather', 'is', 'great', ',', 'and', 'city', 'is', 'awesome', '.', 'The', 'sky', 'is', 'pinkish-blue', '.', 'You', 'should', \"n't\", 'eat', 'cardboard']\n"
     ]
    }
   ],
   "source": [
    "#Lemmatization\n",
    "lemmed_words = []\n",
    "lem = WordNetLemmatizer()\n",
    "for w in tokenized_word:\n",
    "    lemmed_words.append(lem.lemmatize(w))\n",
    "print(\"\\nLemmatized Sentence:\",lemmed_words)"
   ]
  },
  {
   "cell_type": "code",
   "execution_count": 9,
   "metadata": {
    "execution": {
     "iopub.execute_input": "2022-03-10T13:55:21.945740Z",
     "iopub.status.busy": "2022-03-10T13:55:21.945488Z",
     "iopub.status.idle": "2022-03-10T13:55:21.959404Z",
     "shell.execute_reply": "2022-03-10T13:55:21.958811Z",
     "shell.execute_reply.started": "2022-03-10T13:55:21.945710Z"
    }
   },
   "outputs": [
    {
     "name": "stdout",
     "output_type": "stream",
     "text": [
      "\n",
      "POS Tagging: [('Albert', 'NNP'), ('Einstein', 'NNP'), ('was', 'VBD'), ('born', 'VBN'), ('in', 'IN'), ('Ulm', 'NNP'), (',', ','), ('Germany', 'NNP'), ('in', 'IN'), ('1879', 'CD'), ('.', '.')]\n"
     ]
    }
   ],
   "source": [
    "#POS Tagging\n",
    "sent = \"Albert Einstein was born in Ulm, Germany in 1879.\"\n",
    "tokens=nltk.word_tokenize(sent)\n",
    "pos_tagging = nltk.pos_tag(tokens)\n",
    "print(\"\\nPOS Tagging:\",pos_tagging)"
   ]
  }
 ],
 "metadata": {
  "kernelspec": {
   "display_name": "Python 3 (ipykernel)",
   "language": "python",
   "name": "python3"
  },
  "language_info": {
   "codemirror_mode": {
    "name": "ipython",
    "version": 3
   },
   "file_extension": ".py",
   "mimetype": "text/x-python",
   "name": "python",
   "nbconvert_exporter": "python",
   "pygments_lexer": "ipython3",
   "version": "3.9.7"
  }
 },
 "nbformat": 4,
 "nbformat_minor": 4
}
